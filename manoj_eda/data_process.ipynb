{
 "cells": [
  {
   "cell_type": "code",
   "execution_count": null,
   "id": "7df82b34",
   "metadata": {},
   "outputs": [],
   "source": [
    "import pandas as pd\n",
    "import seaborn as sns\n",
    "import matplotlib.pyplot as plt\n"
   ]
  },
  {
   "cell_type": "code",
   "execution_count": null,
   "id": "346d0e44",
   "metadata": {},
   "outputs": [],
   "source": [
    "dfm = pd.read_csv('fifa.csv')\n"
   ]
  },
  {
   "cell_type": "code",
   "execution_count": null,
   "id": "3db6363d",
   "metadata": {},
   "outputs": [],
   "source": [
    "dfm.head(4)"
   ]
  },
  {
   "cell_type": "code",
   "execution_count": null,
   "id": "a1b94595",
   "metadata": {},
   "outputs": [],
   "source": [
    "dfm.info()"
   ]
  },
  {
   "cell_type": "code",
   "execution_count": null,
   "id": "9a0a3f29",
   "metadata": {},
   "outputs": [],
   "source": [
    "dfm.columns"
   ]
  },
  {
   "cell_type": "code",
   "execution_count": null,
   "id": "39cc0e3f",
   "metadata": {},
   "outputs": [],
   "source": [
    "dfm.tail(4)"
   ]
  },
  {
   "cell_type": "code",
   "execution_count": null,
   "id": "d319aa72",
   "metadata": {},
   "outputs": [],
   "source": [
    "dfm.describe()"
   ]
  },
  {
   "cell_type": "code",
   "execution_count": null,
   "id": "b7ada202",
   "metadata": {},
   "outputs": [],
   "source": [
    "val = dfm.isnull().sum()\n",
    "for col, missing in val.items():\n",
    "    if missing > 0:\n",
    "        print(f\"{col} → {missing}\")\n"
   ]
  },
  {
   "cell_type": "code",
   "execution_count": null,
   "id": "19becab1",
   "metadata": {},
   "outputs": [],
   "source": [
    "dfm = dfm.drop('Loan Date End', axis=1) # Handling Null values"
   ]
  },
  {
   "cell_type": "code",
   "execution_count": null,
   "id": "d61d27b7",
   "metadata": {},
   "outputs": [],
   "source": [
    "def convert_name(name):\n",
    "    if \".\" in name:\n",
    "        return name.replace(\" \",\"\")\n",
    "    parts = name.split()\n",
    "    if len(parts) >= 2:\n",
    "        return f\"{parts[0][0].upper()}.{parts[1]}\"\n",
    "    return name.replace(\" \",\"\")"
   ]
  },
  {
   "cell_type": "code",
   "execution_count": null,
   "id": "78fb1be3",
   "metadata": {},
   "outputs": [],
   "source": [
    "dfm['new_name'] = dfm['Name'].apply(convert_name)"
   ]
  },
  {
   "cell_type": "code",
   "execution_count": null,
   "id": "51c3537f",
   "metadata": {},
   "outputs": [],
   "source": [
    "dfm['new_name'].head(5)"
   ]
  },
  {
   "cell_type": "code",
   "execution_count": null,
   "id": "673d51b6",
   "metadata": {},
   "outputs": [],
   "source": [
    "dfm.loc[~dfm[\"Name\"].str.contains(\"\\.\"), \"LongName\"] = dfm[\"Name\"]\n",
    "dfm.head(5)"
   ]
  },
  {
   "cell_type": "code",
   "execution_count": null,
   "id": "6790875c",
   "metadata": {},
   "outputs": [],
   "source": [
    "dfm[\"Club\"] = dfm[\"Club\"].str.replace(\"\\n\", \"\", regex=True)\n"
   ]
  },
  {
   "cell_type": "code",
   "execution_count": null,
   "id": "368b99ea",
   "metadata": {},
   "outputs": [],
   "source": [
    "dfm['contract_start'] = dfm['Contract'].apply(lambda x : x.split(' ~ ')[0])\n",
    "dfm['contract_end']   = dfm['Contract'].apply(lambda x: x.split(' ~ ')[1] if ' ~ ' in x else None)\n",
    "dfm['contract_start'].head(4)"
   ]
  },
  {
   "cell_type": "code",
   "execution_count": null,
   "id": "39b2c0a2",
   "metadata": {},
   "outputs": [],
   "source": [
    "dfm[\"Value\"]= dfm['Value'].apply(lambda x : x.replace(\"â¬\",\"\"))"
   ]
  },
  {
   "cell_type": "code",
   "execution_count": null,
   "id": "260b8a76",
   "metadata": {},
   "outputs": [],
   "source": [
    "dfm[\"Wage\"]= dfm['Wage'].apply(lambda x : x.replace(\"â¬\",\"\"))"
   ]
  },
  {
   "cell_type": "code",
   "execution_count": null,
   "id": "1bdc078f",
   "metadata": {},
   "outputs": [],
   "source": [
    "dfm['IR'] = dfm['IR'].apply(lambda x : x.replace(' â',''))"
   ]
  },
  {
   "cell_type": "code",
   "execution_count": null,
   "id": "8f832bf6",
   "metadata": {},
   "outputs": [],
   "source": []
  },
  {
   "cell_type": "code",
   "execution_count": null,
   "id": "b5976700",
   "metadata": {},
   "outputs": [],
   "source": []
  }
 ],
 "metadata": {
  "language_info": {
   "name": "python"
  }
 },
 "nbformat": 4,
 "nbformat_minor": 5
}
