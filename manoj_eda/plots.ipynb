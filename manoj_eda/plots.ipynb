{
 "cells": [
  {
   "cell_type": "code",
   "execution_count": null,
   "id": "0a4c2f11",
   "metadata": {},
   "outputs": [],
   "source": [
    "import pandas as pd\n",
    "import seaborn as sns\n",
    "import matplotlib.pyplot as plt\n",
    "import numpy as np\n"
   ]
  },
  {
   "cell_type": "code",
   "execution_count": 2,
   "id": "4caa28ae",
   "metadata": {},
   "outputs": [],
   "source": [
    "df = pd.read_csv('s.csv')\n",
    "df = df.drop('Semester', axis=1)\n",
    "df = df.drop('Extra',axis =1)"
   ]
  },
  {
   "cell_type": "code",
   "execution_count": null,
   "id": "d10790ed",
   "metadata": {},
   "outputs": [],
   "source": [
    "df.shape"
   ]
  },
  {
   "cell_type": "code",
   "execution_count": null,
   "id": "69cfd419",
   "metadata": {},
   "outputs": [],
   "source": [
    "df.info()"
   ]
  },
  {
   "cell_type": "code",
   "execution_count": 3,
   "id": "d80d9e11",
   "metadata": {},
   "outputs": [
    {
     "data": {
      "text/plain": [
       "Index(['Department', 'Gender', 'HSC', 'SSC', 'Income', 'Hometown', 'Computer',\n",
       "       'Preparation', 'Gaming', 'Attendance', 'Job', 'English', 'Last',\n",
       "       'Overall'],\n",
       "      dtype='object')"
      ]
     },
     "execution_count": 3,
     "metadata": {},
     "output_type": "execute_result"
    }
   ],
   "source": [
    "df.columns"
   ]
  },
  {
   "cell_type": "code",
   "execution_count": 4,
   "id": "e7594c70",
   "metadata": {},
   "outputs": [
    {
     "data": {
      "text/html": [
       "<div>\n",
       "<style scoped>\n",
       "    .dataframe tbody tr th:only-of-type {\n",
       "        vertical-align: middle;\n",
       "    }\n",
       "\n",
       "    .dataframe tbody tr th {\n",
       "        vertical-align: top;\n",
       "    }\n",
       "\n",
       "    .dataframe thead th {\n",
       "        text-align: right;\n",
       "    }\n",
       "</style>\n",
       "<table border=\"1\" class=\"dataframe\">\n",
       "  <thead>\n",
       "    <tr style=\"text-align: right;\">\n",
       "      <th></th>\n",
       "      <th>HSC</th>\n",
       "      <th>SSC</th>\n",
       "      <th>Computer</th>\n",
       "      <th>English</th>\n",
       "      <th>Last</th>\n",
       "      <th>Overall</th>\n",
       "    </tr>\n",
       "  </thead>\n",
       "  <tbody>\n",
       "    <tr>\n",
       "      <th>count</th>\n",
       "      <td>493.000000</td>\n",
       "      <td>493.000000</td>\n",
       "      <td>493.000000</td>\n",
       "      <td>493.000000</td>\n",
       "      <td>493.000000</td>\n",
       "      <td>493.000000</td>\n",
       "    </tr>\n",
       "    <tr>\n",
       "      <th>mean</th>\n",
       "      <td>4.156775</td>\n",
       "      <td>4.767647</td>\n",
       "      <td>3.338742</td>\n",
       "      <td>3.569980</td>\n",
       "      <td>3.163888</td>\n",
       "      <td>3.188383</td>\n",
       "    </tr>\n",
       "    <tr>\n",
       "      <th>std</th>\n",
       "      <td>0.546504</td>\n",
       "      <td>0.349538</td>\n",
       "      <td>1.252988</td>\n",
       "      <td>0.870515</td>\n",
       "      <td>0.641475</td>\n",
       "      <td>0.591801</td>\n",
       "    </tr>\n",
       "    <tr>\n",
       "      <th>min</th>\n",
       "      <td>2.170000</td>\n",
       "      <td>3.000000</td>\n",
       "      <td>1.000000</td>\n",
       "      <td>1.000000</td>\n",
       "      <td>1.000000</td>\n",
       "      <td>1.000000</td>\n",
       "    </tr>\n",
       "    <tr>\n",
       "      <th>25%</th>\n",
       "      <td>3.830000</td>\n",
       "      <td>4.680000</td>\n",
       "      <td>3.000000</td>\n",
       "      <td>3.000000</td>\n",
       "      <td>2.810000</td>\n",
       "      <td>2.880000</td>\n",
       "    </tr>\n",
       "    <tr>\n",
       "      <th>50%</th>\n",
       "      <td>4.170000</td>\n",
       "      <td>4.940000</td>\n",
       "      <td>3.000000</td>\n",
       "      <td>4.000000</td>\n",
       "      <td>3.250000</td>\n",
       "      <td>3.270000</td>\n",
       "    </tr>\n",
       "    <tr>\n",
       "      <th>75%</th>\n",
       "      <td>4.500000</td>\n",
       "      <td>5.000000</td>\n",
       "      <td>4.000000</td>\n",
       "      <td>4.000000</td>\n",
       "      <td>3.670000</td>\n",
       "      <td>3.680000</td>\n",
       "    </tr>\n",
       "    <tr>\n",
       "      <th>max</th>\n",
       "      <td>5.000000</td>\n",
       "      <td>5.000000</td>\n",
       "      <td>5.000000</td>\n",
       "      <td>5.000000</td>\n",
       "      <td>4.000000</td>\n",
       "      <td>4.000000</td>\n",
       "    </tr>\n",
       "  </tbody>\n",
       "</table>\n",
       "</div>"
      ],
      "text/plain": [
       "              HSC         SSC    Computer     English        Last     Overall\n",
       "count  493.000000  493.000000  493.000000  493.000000  493.000000  493.000000\n",
       "mean     4.156775    4.767647    3.338742    3.569980    3.163888    3.188383\n",
       "std      0.546504    0.349538    1.252988    0.870515    0.641475    0.591801\n",
       "min      2.170000    3.000000    1.000000    1.000000    1.000000    1.000000\n",
       "25%      3.830000    4.680000    3.000000    3.000000    2.810000    2.880000\n",
       "50%      4.170000    4.940000    3.000000    4.000000    3.250000    3.270000\n",
       "75%      4.500000    5.000000    4.000000    4.000000    3.670000    3.680000\n",
       "max      5.000000    5.000000    5.000000    5.000000    4.000000    4.000000"
      ]
     },
     "execution_count": 4,
     "metadata": {},
     "output_type": "execute_result"
    }
   ],
   "source": [
    "df.describe()"
   ]
  },
  {
   "cell_type": "code",
   "execution_count": 7,
   "id": "a6104695",
   "metadata": {},
   "outputs": [
    {
     "data": {
      "text/plain": [
       "np.int64(0)"
      ]
     },
     "execution_count": 7,
     "metadata": {},
     "output_type": "execute_result"
    }
   ],
   "source": [
    "df.duplicated().sum()"
   ]
  },
  {
   "cell_type": "code",
   "execution_count": null,
   "id": "010688ad",
   "metadata": {},
   "outputs": [],
   "source": [
    "sns.histplot(df['English'],bins=4)"
   ]
  },
  {
   "cell_type": "code",
   "execution_count": null,
   "id": "26efa5d1",
   "metadata": {},
   "outputs": [],
   "source": [
    "sns.kdeplot(df['English'])"
   ]
  },
  {
   "cell_type": "code",
   "execution_count": null,
   "id": "42ad909e",
   "metadata": {},
   "outputs": [],
   "source": [
    "sns.displot(df['English'],kde=True,bins= 4)"
   ]
  },
  {
   "cell_type": "code",
   "execution_count": null,
   "id": "87fae1bf",
   "metadata": {},
   "outputs": [],
   "source": [
    "sns.countplot(data = df ,x = df['Computer'],hue=df['Gender'])"
   ]
  },
  {
   "cell_type": "code",
   "execution_count": null,
   "id": "bb5c5bed",
   "metadata": {},
   "outputs": [],
   "source": [
    "sns.barplot(data =df , x= df['English'],hue = df['Hometown'])"
   ]
  },
  {
   "cell_type": "code",
   "execution_count": null,
   "id": "9d440c28",
   "metadata": {},
   "outputs": [],
   "source": [
    "sns.lineplot(data=df , x=df['English'],y=df['Computer'],hue=df['Gender'],marker='o')"
   ]
  },
  {
   "cell_type": "code",
   "execution_count": null,
   "id": "24d9f777",
   "metadata": {},
   "outputs": [],
   "source": [
    "sns.scatterplot(data=df, x='English', y='Computer', hue='Gender',)"
   ]
  },
  {
   "cell_type": "code",
   "execution_count": null,
   "id": "fee22b43",
   "metadata": {},
   "outputs": [],
   "source": [
    "sns.swarmplot(data=df, x='English', y='Computer', hue='Gender')"
   ]
  },
  {
   "cell_type": "code",
   "execution_count": null,
   "id": "5ee7d479",
   "metadata": {},
   "outputs": [],
   "source": [
    "sns.stripplot(data=df, x='English', y='Computer', hue='Gender')"
   ]
  },
  {
   "cell_type": "markdown",
   "id": "864718a8",
   "metadata": {},
   "source": [
    "sns.heatmap(df.corr(), annot=True, cmap=\"coolwarm\", fmt=\".2f\")"
   ]
  },
  {
   "cell_type": "code",
   "execution_count": null,
   "id": "f0414334",
   "metadata": {},
   "outputs": [],
   "source": [
    "sns.violinplot(df['English'])"
   ]
  },
  {
   "cell_type": "code",
   "execution_count": null,
   "id": "4d944c5b",
   "metadata": {},
   "outputs": [],
   "source": [
    "index = df['Computer'].value_counts().index\n",
    "value = df['Computer'].value_counts().values\n",
    "\n",
    "plt.pie(value, labels=index, autopct='%1.1f%%', startangle=90)\n",
    "plt.title(\"Distribution of English Grade\")\n",
    "plt.show()"
   ]
  },
  {
   "cell_type": "code",
   "execution_count": null,
   "id": "9293a355",
   "metadata": {},
   "outputs": [],
   "source": [
    "sns.stripplot(x=\"HSC\", y=\"Gender\", data=df, jitter=True,palette='bright')\n",
    "\n"
   ]
  },
  {
   "cell_type": "code",
   "execution_count": null,
   "id": "411a3b9e",
   "metadata": {},
   "outputs": [],
   "source": [
    "sns.stripplot(x=\"SSC\", y=\"Gender\", data=df, jitter=True,palette='Greens')\n",
    "\n"
   ]
  },
  {
   "cell_type": "code",
   "execution_count": null,
   "id": "3153206a",
   "metadata": {},
   "outputs": [],
   "source": [
    "\n",
    "sns.scatterplot(data = df ,x = df['SSC'],y=df['HSC'])"
   ]
  },
  {
   "cell_type": "code",
   "execution_count": null,
   "id": "e72cfe2d",
   "metadata": {},
   "outputs": [],
   "source": [
    "sns.scatterplot(data = df ,x = df['HSC'],y=df['SSC'],hue='Hometown')"
   ]
  },
  {
   "cell_type": "code",
   "execution_count": null,
   "id": "aea2109a",
   "metadata": {},
   "outputs": [],
   "source": [
    "sns.scatterplot(data = df ,x = df['SSC'],y=df['HSC'],hue='Gender')"
   ]
  },
  {
   "cell_type": "code",
   "execution_count": null,
   "id": "41869bce",
   "metadata": {},
   "outputs": [],
   "source": [
    "gender_counts = df.groupby(\"Department\")[\"Gender\"].value_counts().reset_index(name=\"Count\")\n",
    "sns.barplot(y=\"Department\", x=\"Count\", hue=\"Gender\", data=gender_counts)"
   ]
  },
  {
   "cell_type": "code",
   "execution_count": null,
   "id": "99346784",
   "metadata": {},
   "outputs": [],
   "source": [
    "place_counts = df.groupby(\"Department\")[\"Hometown\"].value_counts().reset_index(name=\"Count\")\n",
    "sns.barplot(y=\"Department\", x=\"Count\", hue=\"Hometown\", data=place_counts)"
   ]
  },
  {
   "cell_type": "code",
   "execution_count": null,
   "id": "4fde1035",
   "metadata": {},
   "outputs": [],
   "source": [
    "counts = df.groupby(\"Gender\")[\"Hometown\"].value_counts().reset_index(name=\"Count\")\n",
    "sns.stripplot(y=\"Gender\", x=\"Count\", hue=\"Hometown\", data=counts)"
   ]
  },
  {
   "cell_type": "code",
   "execution_count": null,
   "id": "88f90fd1",
   "metadata": {},
   "outputs": [],
   "source": [
    "sns.histplot(df['Overall'],bins=3)"
   ]
  },
  {
   "cell_type": "code",
   "execution_count": null,
   "id": "cb11ba25",
   "metadata": {},
   "outputs": [],
   "source": [
    "sns.swarmplot(data = df,x = df[\"Overall\"], hue=\"Gender\",palette='bright')"
   ]
  }
 ],
 "metadata": {
  "kernelspec": {
   "display_name": "personal_env",
   "language": "python",
   "name": "python3"
  },
  "language_info": {
   "codemirror_mode": {
    "name": "ipython",
    "version": 3
   },
   "file_extension": ".py",
   "mimetype": "text/x-python",
   "name": "python",
   "nbconvert_exporter": "python",
   "pygments_lexer": "ipython3",
   "version": "3.11.13"
  }
 },
 "nbformat": 4,
 "nbformat_minor": 5
}
