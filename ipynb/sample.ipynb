{
 "cells": [
  {
   "cell_type": "code",
   "execution_count": 1,
   "id": "c6d18990",
   "metadata": {},
   "outputs": [
    {
     "name": "stdout",
     "output_type": "stream",
     "text": [
      "[40, 50]\n"
     ]
    }
   ],
   "source": [
    "l = [10,20,30,40,50]\n",
    "a = list(filter(lambda x:x>30 ,l))\n",
    "print(a)"
   ]
  },
  {
   "cell_type": "code",
   "execution_count": 11,
   "id": "941f923f",
   "metadata": {},
   "outputs": [
    {
     "name": "stdout",
     "output_type": "stream",
     "text": [
      "sim pattern : \\b[1-9]\\b\n",
      "sim count : []\n",
      "\\b(?:one|two|three|couple|triple)\\b\n",
      "['couple']\n",
      "mapped_word_matches :['2']\n",
      "all_numbers :['2']\n",
      "numbers1 :['30', '7']\n",
      "words1 : ['ten']\n",
      "converted_numbers1 : ['10']\n"
     ]
    },
    {
     "data": {
      "text/plain": [
       "{'Sim_count': ['2'], 'plan_prices': ['30', '7', '10'], 'count': ['30', '7']}"
      ]
     },
     "execution_count": 11,
     "metadata": {},
     "output_type": "execute_result"
    }
   ],
   "source": [
    "import re\n",
    "\n",
    "\n",
    "def extract_sim_count(sentence):\n",
    "    sentence_cleaned = sentence.replace(' ', '').replace('  ', '').replace('-', '')\n",
    "\n",
    "    sim_pattern=r'\\b[1-9]\\b'\n",
    "    print(f'sim pattern : {sim_pattern}')\n",
    "\n",
    "    sim_counts = re.findall(sim_pattern, sentence_cleaned, re.IGNORECASE)\n",
    "    print(f'sim count : {sim_counts}')\n",
    "\n",
    "    word_to_number = {\n",
    "        'one': '1',\n",
    "        'two': '2',\n",
    "        'three': '3',\n",
    "        'couple': '2',\n",
    "        'triple': '3',\n",
    "    }\n",
    "\n",
    "    word_pattern = r'\\b(?:' + '|'.join(re.escape(word) for word in word_to_number.keys()) + r')\\b'\n",
    "    print(word_pattern)\n",
    "\n",
    "    word_matches = re.findall(word_pattern, sentence, re.IGNORECASE)\n",
    "    print(word_matches)\n",
    "\n",
    "    mapped_word_matches = [word_to_number.get(word.lower(), word) for word in word_matches]\n",
    "    print(f'mapped_word_matches :{mapped_word_matches}')\n",
    "\n",
    "    all_numbers = sim_counts + mapped_word_matches\n",
    "    print(f'all_numbers :{all_numbers}')\n",
    "\n",
    "    numbers1 = re.findall(r'\\b(?:[5-9]|[1-4][0-9]|50)\\b', sentence)  # Updated pattern to match numbers 5-50\n",
    "    # Mapping from word to number\n",
    "    print(f'numbers1 :{numbers1}')\n",
    "\n",
    "    words_to_numbers1 = {\"five\": \"5\", \"ten\": \"10\", \"twenty\": \"20\", \"thirty\": \"30\", \"forty\": \"40\", \"fifty\": \"50\"}\n",
    "    word_pattern1 = r'\\b(five|ten|twenty|thirty|forty|fifty)\\b(?=\\s*SIMs?)'\n",
    "\n",
    "    words1 = re.findall(word_pattern1, sentence, re.IGNORECASE)\n",
    "    print(f\"words1 : {words1}\")\n",
    "\n",
    "    converted_numbers1 = [words_to_numbers1[word] for word in words1]\n",
    "    print(f'converted_numbers1 : {converted_numbers1}')\n",
    "\n",
    "    all_numbers1 = numbers1 + converted_numbers1\n",
    "    numbers_c = re.findall(r'\\b(?:[0-9]+)\\b', sentence)\n",
    "\n",
    "    return {\"Sim_count\": all_numbers, \"plan_prices\": all_numbers1,\"count\":numbers_c}\n",
    "   \n",
    "\n",
    "extract_sim_count(\"I want a couple SIMs with ten SIMs and 30 plan at 7\")\n"
   ]
  }
 ],
 "metadata": {
  "kernelspec": {
   "display_name": "personal_env",
   "language": "python",
   "name": "python3"
  },
  "language_info": {
   "codemirror_mode": {
    "name": "ipython",
    "version": 3
   },
   "file_extension": ".py",
   "mimetype": "text/x-python",
   "name": "python",
   "nbconvert_exporter": "python",
   "pygments_lexer": "ipython3",
   "version": "3.11.13"
  }
 },
 "nbformat": 4,
 "nbformat_minor": 5
}
